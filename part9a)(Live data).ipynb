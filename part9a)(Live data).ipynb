{
 "cells": [
  {
   "attachments": {},
   "cell_type": "markdown",
   "metadata": {},
   "source": [
    "# Matplotlib Tutorial Part - 9\n",
    "# Ploting Live Data in Real-Time\n",
    "# like ploting graph for  video subscription which gets updated or getting data from the sensors.\n",
    "\n",
    "### In this MatplotLib Tutorial Part - 9 , we will be learning how to plot live data in real-time using Matplotlib. We will learn how to monitor a CSV file that is constantly being updated, and plot the values from that CSV file as they are coming in. This can be extremely useful for plotting data coming from APIs or sensors or any other source that will have frequent updates. Let's get started..."
   ]
  },
  {
   "cell_type": "code",
   "execution_count": 1,
   "metadata": {},
   "outputs": [
    {
     "name": "stderr",
     "output_type": "stream",
     "text": [
      "C:\\Users\\darsh\\AppData\\Local\\Temp\\ipykernel_24632\\3090238459.py:21: UserWarning: frames=None which we can infer the length of, did not pass an explicit *save_count* and passed cache_frame_data=True.  To avoid a possibly unbounded cache, frame data caching has been disabled. To suppress this warning either pass `cache_frame_data=False` or `save_count=MAX_FRAMES`.\n",
      "  ani = FuncAnimation(plt.gcf(),animate,interval=5000)\n"
     ]
    },
    {
     "data": {
      "text/plain": [
       "<Figure size 640x480 with 0 Axes>"
      ]
     },
     "metadata": {},
     "output_type": "display_data"
    }
   ],
   "source": [
    "import pandas as pd\n",
    "import matplotlib.pyplot as plt\n",
    "from itertools import count\n",
    "import random\n",
    "from matplotlib.animation import FuncAnimation\n",
    "\n",
    "plt.style.use(\"fivethirtyeight\")\n",
    "x_vals = []\n",
    "y_vals = []\n",
    "\n",
    "index = count()\n",
    "\n",
    "def animate(i):\n",
    "    print(i)\n",
    "    x_vals.append(next(index))\n",
    "    y_vals.append(random.randint(0,5))\n",
    "\n",
    "    plt.plot(x_vals,y_vals)\n",
    "\n",
    "\n",
    "ani = FuncAnimation(plt.gcf(),animate,interval=5000)\n",
    "\n",
    "plt.tight_layout()\n",
    "plt.show()\n",
    "\n",
    "# if u not getting the graph then run this code on cmd or using editors with file saved as .py and also include livedatagen.py with in same directory as this saved file "
   ]
  },
  {
   "attachments": {},
   "cell_type": "markdown",
   "metadata": {},
   "source": [
    "### By using live datat generated from python(source)"
   ]
  },
  {
   "cell_type": "code",
   "execution_count": 51,
   "metadata": {},
   "outputs": [
    {
     "name": "stderr",
     "output_type": "stream",
     "text": [
      "C:\\Users\\darsh\\AppData\\Local\\Temp\\ipykernel_20500\\3242611034.py:29: UserWarning: frames=None which we can infer the length of, did not pass an explicit *save_count* and passed cache_frame_data=True.  To avoid a possibly unbounded cache, frame data caching has been disabled. To suppress this warning either pass `cache_frame_data=False` or `save_count=MAX_FRAMES`.\n",
      "  ani = FuncAnimation(plt.gcf(),animate,interval=1000)\n",
      "C:\\Users\\darsh\\AppData\\Local\\Packages\\PythonSoftwareFoundation.Python.3.10_qbz5n2kfra8p0\\LocalCache\\local-packages\\Python310\\site-packages\\matplotlib\\animation.py:884: UserWarning: Animation was deleted without rendering anything. This is most likely not intended. To prevent deletion, assign the Animation to a variable, e.g. `anim`, that exists until you output the Animation using `plt.show()` or `anim.save()`.\n",
      "  warnings.warn(\n"
     ]
    },
    {
     "data": {
      "text/plain": [
       "<Figure size 640x480 with 0 Axes>"
      ]
     },
     "metadata": {},
     "output_type": "display_data"
    }
   ],
   "source": [
    "\n",
    "\n",
    "\n",
    "import pandas as pd\n",
    "import matplotlib.pyplot as plt\n",
    "from itertools import count\n",
    "import random\n",
    "from matplotlib.animation import FuncAnimation\n",
    "\n",
    "plt.style.use(\"fivethirtyeight\")\n",
    "\n",
    "index = count()\n",
    "\n",
    "def animate(i):\n",
    "    data = pd.read_csv(\"data_csv.csv\")\n",
    "    x=data['x_value']\n",
    "    y1=data['total1']\n",
    "    y2=data['total2']\n",
    "    plt.cla()\n",
    "    plt.plot(x,y1,label=\"Channel 1\")\n",
    "    plt.plot(x,y2,label=\"Channel 2\")\n",
    "\n",
    "    plt.legend(loc=\"upper left\")\n",
    "    plt.tight_layout()\n",
    "\n",
    "\n",
    "ani = FuncAnimation(plt.gcf(),animate,interval=1000)\n",
    "\n",
    "plt.tight_layout()\n",
    "plt.show()\n",
    "\n"
   ]
  },
  {
   "cell_type": "markdown",
   "metadata": {},
   "source": [
    "### BE KIND TO EVEYONE CODING ARMY :)..!"
   ]
  }
 ],
 "metadata": {
  "kernelspec": {
   "display_name": "Python 3",
   "language": "python",
   "name": "python3"
  },
  "language_info": {
   "codemirror_mode": {
    "name": "ipython",
    "version": 3
   },
   "file_extension": ".py",
   "mimetype": "text/x-python",
   "name": "python",
   "nbconvert_exporter": "python",
   "pygments_lexer": "ipython3",
   "version": "3.10.10"
  },
  "orig_nbformat": 4,
  "vscode": {
   "interpreter": {
    "hash": "5fe2f6f2f340aab46f804e0c35515c906405c726b7b4590b7cc040ea75b732b3"
   }
  }
 },
 "nbformat": 4,
 "nbformat_minor": 2
}
